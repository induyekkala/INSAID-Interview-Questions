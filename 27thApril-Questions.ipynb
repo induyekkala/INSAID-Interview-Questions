{
 "cells": [
  {
   "cell_type": "code",
   "execution_count": null,
   "metadata": {},
   "outputs": [],
   "source": [
    "1. Work on Post casts.\n",
    "2. Is there any proper way we can learn graphs-Strategy.\n",
    "Ans: yes, In seaborn statistical visualization select API ,it is one of the most simpler API to work on graphs and it is very simple to deploy than matplotlib .In the API majority of list of plots are list to be drawn.\n",
    "3.What is a baseline model\n",
    "Ans: In the practise of data science we always work first on baseline model. Baseline means simplest model, it also tell us we must not go accuracy lesser then this model.\n",
    "4.What are the three ways of solving Linear Regression problem\n",
    "1.Ordinary Least Square \n",
    "2.Linear Algebra-Default method (Scikit-Learn)\n",
    "3.Gradient Descent\n",
    "5.Correlation doesn’t mean causation.\n",
    "Ans: Correlation is a linear relationship between two features. Correlation and Linear-Regression the majority difference is in Linear-Regression we see the relation between more than one or two columns, where as in correlation we see for eg: Newspaper vs Sales how both values are linearly growing with other.\n",
    "The line correlation doesn’t mean is causation-There is a relation but may not be a cause to other. \n",
    "6. The magic function to draw the graph using matplotlib is:\n",
    "   # matplotlib inline.\n",
    "7. In python world there is no word like category, the python can understand only.\n",
    "1. Int\n",
    "2. Float\n",
    "3. Object-\n",
    "For  categorical variables bt default it is object to convert into categorical we must use the type category.\n",
    "8. What do you think having a peak is good or bad\n",
    "Peak represents from the data that more values of data in that range.\n",
    "9. What do you mean by Normal Distribution\n",
    "Ans: Majority of the data centred around mean \n",
    "10. Why do we use Joint Plot what is logical reason behind it.\n",
    "Ans: To find the peak (distribution) as well as the relationships.\n",
    "\n",
    "\n",
    " \n",
    " \n",
    "\n",
    "\n",
    "\n",
    "\n",
    " \n"
   ]
  }
 ],
 "metadata": {
  "kernelspec": {
   "display_name": "Python 3",
   "language": "python",
   "name": "python3"
  },
  "language_info": {
   "codemirror_mode": {
    "name": "ipython",
    "version": 3
   },
   "file_extension": ".py",
   "mimetype": "text/x-python",
   "name": "python",
   "nbconvert_exporter": "python",
   "pygments_lexer": "ipython3",
   "version": "3.6.5"
  }
 },
 "nbformat": 4,
 "nbformat_minor": 2
}
