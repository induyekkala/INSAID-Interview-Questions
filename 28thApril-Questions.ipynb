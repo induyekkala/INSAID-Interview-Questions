{
 "cells": [
  {
   "cell_type": "code",
   "execution_count": null,
   "metadata": {},
   "outputs": [],
   "source": [
    "1.What the strength of the linear regression line gives you from the graph.\n",
    "Ans: It tells about strength and the correlation between two features.\n",
    "2.What happen when higher variations in data in Linear Regression.\n",
    "Ans: One of the intuition that y=mx+c is that if the m-value is slightly higher it tells us how strong the relationship,the strength of y and x.If C value is high then it tells about how much variance happen in the data  \n",
    "3.How to do features inter-correlate to each other when they are more number of columns present in data.\n",
    "Ans: 1.Correlation between variables 2.Less bias better slope.\n",
    "4.Different types of bias in Machine Learning\n",
    "1. Data bias- A bias w.r.t to single data (one column) is known as data bias\n",
    "2. Model bias- A bias w.r.t to line(c-value) is known as Model bias as it include both the columns \n",
    "3. Distribution bias.\n",
    "5. do you want the correlation between independent varible must be high or less its a stragery that we must drop the column which high correlation.\n",
    "Ans:0.3 to 0.7 subjective \n",
    "    0.7>highly correlated\n",
    "    0.3< not highly correlated\n"
   ]
  },
  {
   "cell_type": "code",
   "execution_count": null,
   "metadata": {},
   "outputs": [],
   "source": []
  }
 ],
 "metadata": {
  "kernelspec": {
   "display_name": "Python 3",
   "language": "python",
   "name": "python3"
  },
  "language_info": {
   "codemirror_mode": {
    "name": "ipython",
    "version": 3
   },
   "file_extension": ".py",
   "mimetype": "text/x-python",
   "name": "python",
   "nbconvert_exporter": "python",
   "pygments_lexer": "ipython3",
   "version": "3.6.5"
  }
 },
 "nbformat": 4,
 "nbformat_minor": 2
}
